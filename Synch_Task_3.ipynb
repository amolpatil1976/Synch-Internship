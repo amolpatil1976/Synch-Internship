{
  "nbformat": 4,
  "nbformat_minor": 0,
  "metadata": {
    "colab": {
      "provenance": [],
      "authorship_tag": "ABX9TyMN3mBDZNMbsE224QdRGTFC",
      "include_colab_link": true
    },
    "kernelspec": {
      "name": "python3",
      "display_name": "Python 3"
    },
    "language_info": {
      "name": "python"
    }
  },
  "cells": [
    {
      "cell_type": "markdown",
      "metadata": {
        "id": "view-in-github",
        "colab_type": "text"
      },
      "source": [
        "<a href=\"https://colab.research.google.com/github/amolpatil1976/Synch-Internship/blob/main/Synch_Task_3.ipynb\" target=\"_parent\"><img src=\"https://colab.research.google.com/assets/colab-badge.svg\" alt=\"Open In Colab\"/></a>"
      ]
    },
    {
      "cell_type": "code",
      "execution_count": 18,
      "metadata": {
        "id": "sJYuuK3PLmgd"
      },
      "outputs": [],
      "source": [
        "import matplotlib.pyplot as plt\n",
        "import pandas as pd\n",
        "\n",
        "import tensorflow as tf\n",
        "\n",
        "from tensorflow import keras #cleaner and shorter weight\n",
        "from tensorflow.keras import layers #e.g. hidden/ output...\n",
        "from tensorflow.keras.datasets import boston_housing #data\n",
        "import time"
      ]
    },
    {
      "cell_type": "code",
      "source": [
        "from tensorflow.keras.datasets import boston_housing\n",
        "(train_data, train_targets), (test_data, test_targets) = boston_housing.load_data()"
      ],
      "metadata": {
        "colab": {
          "base_uri": "https://localhost:8080/"
        },
        "id": "c9F5W2CKPxGa",
        "outputId": "b527dcf2-f1e1-4af1-df19-c3dd2f2650e4"
      },
      "execution_count": 19,
      "outputs": [
        {
          "output_type": "stream",
          "name": "stdout",
          "text": [
            "Downloading data from https://storage.googleapis.com/tensorflow/tf-keras-datasets/boston_housing.npz\n",
            "57026/57026 [==============================] - 0s 0us/step\n"
          ]
        }
      ]
    },
    {
      "cell_type": "code",
      "source": [
        "print('Training data : {}'.format(train_data.shape))\n",
        "print('Training target : {}'.format(train_targets.shape))\n",
        "print('Test data : {}'.format(test_data.shape))\n",
        "print('Test target : {}'.format(test_targets.shape))"
      ],
      "metadata": {
        "colab": {
          "base_uri": "https://localhost:8080/"
        },
        "id": "9wvTWv3dP480",
        "outputId": "7369c293-d78b-44c2-f142-bc7caef0a781"
      },
      "execution_count": 20,
      "outputs": [
        {
          "output_type": "stream",
          "name": "stdout",
          "text": [
            "Training data : (404, 13)\n",
            "Training target : (404,)\n",
            "Test data : (102, 13)\n",
            "Test target : (102,)\n"
          ]
        }
      ]
    },
    {
      "cell_type": "code",
      "source": [
        "model = keras.Sequential([layers.Dense(1, input_shape=[train_data.shape[1]])])\n",
        "\n",
        "optimizer = tf.keras.optimizers.Adam(0.001)\n",
        "\n",
        "model.compile(loss='mse',\n",
        "              optimizer=optimizer,\n",
        "              metrics=['mse'])"
      ],
      "metadata": {
        "id": "amMEwNvFP8Ip"
      },
      "execution_count": 21,
      "outputs": []
    },
    {
      "cell_type": "code",
      "source": [
        "model_1 = keras.Sequential([layers.Dense(1, input_shape=[train_data.shape[1]])])\n",
        "\n",
        "optimizer = tf.keras.optimizers.SGD(0.0000004)\n",
        "\n",
        "model_1.compile(loss='mse',\n",
        "              optimizer=optimizer,\n",
        "              metrics=['mse'])"
      ],
      "metadata": {
        "id": "w-XFnZu0QFPh"
      },
      "execution_count": 22,
      "outputs": []
    },
    {
      "cell_type": "code",
      "source": [
        "def build_model():\n",
        "    model = keras.Sequential([layers.Dense(1, input_shape=[train_data.shape[1]])])\n",
        "    optimizer = tf.keras.optimizers.Adam(0.001)\n",
        "    model.compile(loss='mse',\n",
        "                  optimizer=optimizer,\n",
        "                  metrics=['mse'])\n",
        "    return model"
      ],
      "metadata": {
        "id": "dkAhphGxQJ-_"
      },
      "execution_count": 23,
      "outputs": []
    },
    {
      "cell_type": "code",
      "source": [
        "model.summary()"
      ],
      "metadata": {
        "colab": {
          "base_uri": "https://localhost:8080/"
        },
        "id": "PlD1zri_QMmw",
        "outputId": "f8e3a9e1-e2fa-42d9-cc9d-09a7fe001f23"
      },
      "execution_count": 24,
      "outputs": [
        {
          "output_type": "stream",
          "name": "stdout",
          "text": [
            "Model: \"sequential\"\n",
            "_________________________________________________________________\n",
            " Layer (type)                Output Shape              Param #   \n",
            "=================================================================\n",
            " dense (Dense)               (None, 1)                 14        \n",
            "                                                                 \n",
            "=================================================================\n",
            "Total params: 14\n",
            "Trainable params: 14\n",
            "Non-trainable params: 0\n",
            "_________________________________________________________________\n"
          ]
        }
      ]
    },
    {
      "cell_type": "code",
      "source": [
        "class PrintLoss(keras.callbacks.Callback):\n",
        "    def on_epoch_begin(self, epoch, logs):\n",
        "        if epoch == 0: self.time = time.monotonic()\n",
        "    def on_epoch_end(self, epoch, logs):\n",
        "        if epoch % 100 == 0:\n",
        "            # calculate training time\n",
        "            t = time.monotonic() - self.time\n",
        "            # if validation set is included, its loss is recorded in logs['val_loss']\n",
        "            print('| Epoch {:4} | training time {:6.2f}s | train loss {:6.2f} |'\n",
        "                  .format(epoch, t, logs['loss']))\n",
        "EPOCHS = 3001\n",
        "\n",
        "\n",
        "history = model.fit(train_data, train_targets,\n",
        "                    epochs=EPOCHS, verbose=0,\n",
        "                    callbacks=[PrintLoss()])\n"
      ],
      "metadata": {
        "colab": {
          "base_uri": "https://localhost:8080/"
        },
        "id": "e7__-5LeQP-4",
        "outputId": "6d161434-3bd8-4ccc-857a-b4533b8a37e1"
      },
      "execution_count": 25,
      "outputs": [
        {
          "output_type": "stream",
          "name": "stdout",
          "text": [
            "| Epoch    0 | training time   0.70s | train loss 6788.77 |\n",
            "| Epoch  100 | training time   2.08s | train loss  78.76 |\n",
            "| Epoch  200 | training time   3.46s | train loss  52.41 |\n",
            "| Epoch  300 | training time   4.85s | train loss  43.04 |\n",
            "| Epoch  400 | training time   6.24s | train loss  39.66 |\n",
            "| Epoch  500 | training time   7.59s | train loss  36.82 |\n",
            "| Epoch  600 | training time   8.96s | train loss  35.14 |\n",
            "| Epoch  700 | training time  10.67s | train loss  33.16 |\n",
            "| Epoch  800 | training time  12.05s | train loss  30.99 |\n",
            "| Epoch  900 | training time  13.40s | train loss  29.86 |\n",
            "| Epoch 1000 | training time  14.75s | train loss  30.11 |\n",
            "| Epoch 1100 | training time  16.11s | train loss  28.41 |\n",
            "| Epoch 1200 | training time  17.46s | train loss  27.38 |\n",
            "| Epoch 1300 | training time  18.77s | train loss  26.72 |\n",
            "| Epoch 1400 | training time  20.11s | train loss  26.23 |\n",
            "| Epoch 1500 | training time  21.62s | train loss  26.03 |\n",
            "| Epoch 1600 | training time  23.19s | train loss  25.69 |\n",
            "| Epoch 1700 | training time  24.51s | train loss  25.54 |\n",
            "| Epoch 1800 | training time  25.87s | train loss  25.34 |\n",
            "| Epoch 1900 | training time  27.23s | train loss  25.13 |\n",
            "| Epoch 2000 | training time  28.59s | train loss  25.33 |\n",
            "| Epoch 2100 | training time  29.92s | train loss  25.23 |\n",
            "| Epoch 2200 | training time  31.26s | train loss  25.06 |\n",
            "| Epoch 2300 | training time  32.58s | train loss  24.96 |\n",
            "| Epoch 2400 | training time  34.30s | train loss  26.33 |\n",
            "| Epoch 2500 | training time  35.63s | train loss  24.85 |\n",
            "| Epoch 2600 | training time  37.00s | train loss  24.93 |\n",
            "| Epoch 2700 | training time  38.33s | train loss  24.70 |\n",
            "| Epoch 2800 | training time  39.67s | train loss  24.77 |\n",
            "| Epoch 2900 | training time  41.03s | train loss  25.28 |\n",
            "| Epoch 3000 | training time  42.38s | train loss  24.75 |\n"
          ]
        }
      ]
    },
    {
      "cell_type": "code",
      "source": [
        "class PrintLoss(keras.callbacks.Callback):\n",
        "    def on_epoch_begin(self, epoch, logs):\n",
        "        if epoch == 0: self.time = time.monotonic()\n",
        "    def on_epoch_end(self, epoch, logs):\n",
        "        if epoch % 100 == 0:\n",
        "            t = time.monotonic() - self.time\n",
        "            print('| Epoch {:4} | training time {:6.2f}s | train loss {:6.2f} |'\n",
        "                  .format(epoch, t, logs['loss']))\n",
        "EPOCHS = 3001 #k\n",
        "\n",
        "history_1 = model_1.fit(train_data, train_targets,\n",
        "                    epochs=EPOCHS, verbose=0,\n",
        "                    callbacks=[PrintLoss()])\n",
        "\n",
        "#SGD is very sensitive (when chooseing different stepsize)"
      ],
      "metadata": {
        "colab": {
          "base_uri": "https://localhost:8080/"
        },
        "id": "sFatodASSah6",
        "outputId": "1c8891d3-13dc-4cdd-c4b0-c9fae1d333f2"
      },
      "execution_count": 32,
      "outputs": [
        {
          "output_type": "stream",
          "name": "stdout",
          "text": [
            "| Epoch    0 | training time   0.32s | train loss 7978.93 |\n",
            "| Epoch  100 | training time   1.79s | train loss  75.82 |\n",
            "| Epoch  200 | training time   3.06s | train loss  71.27 |\n",
            "| Epoch  300 | training time   4.35s | train loss  69.73 |\n",
            "| Epoch  400 | training time   5.62s | train loss  68.30 |\n",
            "| Epoch  500 | training time   6.90s | train loss  66.84 |\n",
            "| Epoch  600 | training time   8.17s | train loss  66.00 |\n",
            "| Epoch  700 | training time   9.46s | train loss  64.89 |\n",
            "| Epoch  800 | training time  10.74s | train loss  64.43 |\n",
            "| Epoch  900 | training time  12.33s | train loss  63.32 |\n",
            "| Epoch 1000 | training time  13.73s | train loss  62.50 |\n",
            "| Epoch 1100 | training time  15.02s | train loss  62.28 |\n",
            "| Epoch 1200 | training time  16.30s | train loss  61.72 |\n",
            "| Epoch 1300 | training time  17.60s | train loss  60.64 |\n",
            "| Epoch 1400 | training time  18.87s | train loss  60.36 |\n",
            "| Epoch 1500 | training time  20.17s | train loss  59.95 |\n",
            "| Epoch 1600 | training time  21.44s | train loss  59.10 |\n",
            "| Epoch 1700 | training time  22.72s | train loss  59.25 |\n",
            "| Epoch 1800 | training time  24.37s | train loss  58.62 |\n",
            "| Epoch 1900 | training time  25.65s | train loss  58.12 |\n",
            "| Epoch 2000 | training time  26.92s | train loss  57.81 |\n",
            "| Epoch 2100 | training time  28.21s | train loss  57.82 |\n",
            "| Epoch 2200 | training time  29.49s | train loss  56.95 |\n",
            "| Epoch 2300 | training time  30.78s | train loss  56.50 |\n",
            "| Epoch 2400 | training time  32.05s | train loss  56.32 |\n",
            "| Epoch 2500 | training time  33.32s | train loss  55.94 |\n",
            "| Epoch 2600 | training time  34.62s | train loss  55.84 |\n",
            "| Epoch 2700 | training time  36.25s | train loss  55.62 |\n",
            "| Epoch 2800 | training time  37.99s | train loss  54.97 |\n",
            "| Epoch 2900 | training time  39.47s | train loss  54.83 |\n",
            "| Epoch 3000 | training time  40.78s | train loss  54.96 |\n"
          ]
        }
      ]
    },
    {
      "cell_type": "code",
      "source": [
        "#turn into dataframe\n",
        "hist = pd.DataFrame(history.history)\n",
        "#new add column\n",
        "hist['epoch'] = history.epoch\n",
        "display(hist.tail())\n",
        "\n",
        "#SDK\n",
        "hist_1 = pd.DataFrame(history_1.history)\n",
        "#new add column\n",
        "hist_1['epoch'] = history_1.epoch\n",
        "display(hist_1.tail())"
      ],
      "metadata": {
        "colab": {
          "base_uri": "https://localhost:8080/",
          "height": 395
        },
        "id": "lNOzBAQEQ0hZ",
        "outputId": "a5db2608-2f57-4338-de80-857bb0540b2e"
      },
      "execution_count": 33,
      "outputs": [
        {
          "output_type": "display_data",
          "data": {
            "text/plain": [
              "           loss        mse  epoch\n",
              "2996  25.551495  25.551495   2996\n",
              "2997  25.388657  25.388657   2997\n",
              "2998  24.669415  24.669415   2998\n",
              "2999  24.898277  24.898277   2999\n",
              "3000  24.753931  24.753931   3000"
            ],
            "text/html": [
              "\n",
              "  <div id=\"df-c00fca58-22b6-472b-90ac-6179c3101b65\">\n",
              "    <div class=\"colab-df-container\">\n",
              "      <div>\n",
              "<style scoped>\n",
              "    .dataframe tbody tr th:only-of-type {\n",
              "        vertical-align: middle;\n",
              "    }\n",
              "\n",
              "    .dataframe tbody tr th {\n",
              "        vertical-align: top;\n",
              "    }\n",
              "\n",
              "    .dataframe thead th {\n",
              "        text-align: right;\n",
              "    }\n",
              "</style>\n",
              "<table border=\"1\" class=\"dataframe\">\n",
              "  <thead>\n",
              "    <tr style=\"text-align: right;\">\n",
              "      <th></th>\n",
              "      <th>loss</th>\n",
              "      <th>mse</th>\n",
              "      <th>epoch</th>\n",
              "    </tr>\n",
              "  </thead>\n",
              "  <tbody>\n",
              "    <tr>\n",
              "      <th>2996</th>\n",
              "      <td>25.551495</td>\n",
              "      <td>25.551495</td>\n",
              "      <td>2996</td>\n",
              "    </tr>\n",
              "    <tr>\n",
              "      <th>2997</th>\n",
              "      <td>25.388657</td>\n",
              "      <td>25.388657</td>\n",
              "      <td>2997</td>\n",
              "    </tr>\n",
              "    <tr>\n",
              "      <th>2998</th>\n",
              "      <td>24.669415</td>\n",
              "      <td>24.669415</td>\n",
              "      <td>2998</td>\n",
              "    </tr>\n",
              "    <tr>\n",
              "      <th>2999</th>\n",
              "      <td>24.898277</td>\n",
              "      <td>24.898277</td>\n",
              "      <td>2999</td>\n",
              "    </tr>\n",
              "    <tr>\n",
              "      <th>3000</th>\n",
              "      <td>24.753931</td>\n",
              "      <td>24.753931</td>\n",
              "      <td>3000</td>\n",
              "    </tr>\n",
              "  </tbody>\n",
              "</table>\n",
              "</div>\n",
              "      <button class=\"colab-df-convert\" onclick=\"convertToInteractive('df-c00fca58-22b6-472b-90ac-6179c3101b65')\"\n",
              "              title=\"Convert this dataframe to an interactive table.\"\n",
              "              style=\"display:none;\">\n",
              "        \n",
              "  <svg xmlns=\"http://www.w3.org/2000/svg\" height=\"24px\"viewBox=\"0 0 24 24\"\n",
              "       width=\"24px\">\n",
              "    <path d=\"M0 0h24v24H0V0z\" fill=\"none\"/>\n",
              "    <path d=\"M18.56 5.44l.94 2.06.94-2.06 2.06-.94-2.06-.94-.94-2.06-.94 2.06-2.06.94zm-11 1L8.5 8.5l.94-2.06 2.06-.94-2.06-.94L8.5 2.5l-.94 2.06-2.06.94zm10 10l.94 2.06.94-2.06 2.06-.94-2.06-.94-.94-2.06-.94 2.06-2.06.94z\"/><path d=\"M17.41 7.96l-1.37-1.37c-.4-.4-.92-.59-1.43-.59-.52 0-1.04.2-1.43.59L10.3 9.45l-7.72 7.72c-.78.78-.78 2.05 0 2.83L4 21.41c.39.39.9.59 1.41.59.51 0 1.02-.2 1.41-.59l7.78-7.78 2.81-2.81c.8-.78.8-2.07 0-2.86zM5.41 20L4 18.59l7.72-7.72 1.47 1.35L5.41 20z\"/>\n",
              "  </svg>\n",
              "      </button>\n",
              "      \n",
              "  <style>\n",
              "    .colab-df-container {\n",
              "      display:flex;\n",
              "      flex-wrap:wrap;\n",
              "      gap: 12px;\n",
              "    }\n",
              "\n",
              "    .colab-df-convert {\n",
              "      background-color: #E8F0FE;\n",
              "      border: none;\n",
              "      border-radius: 50%;\n",
              "      cursor: pointer;\n",
              "      display: none;\n",
              "      fill: #1967D2;\n",
              "      height: 32px;\n",
              "      padding: 0 0 0 0;\n",
              "      width: 32px;\n",
              "    }\n",
              "\n",
              "    .colab-df-convert:hover {\n",
              "      background-color: #E2EBFA;\n",
              "      box-shadow: 0px 1px 2px rgba(60, 64, 67, 0.3), 0px 1px 3px 1px rgba(60, 64, 67, 0.15);\n",
              "      fill: #174EA6;\n",
              "    }\n",
              "\n",
              "    [theme=dark] .colab-df-convert {\n",
              "      background-color: #3B4455;\n",
              "      fill: #D2E3FC;\n",
              "    }\n",
              "\n",
              "    [theme=dark] .colab-df-convert:hover {\n",
              "      background-color: #434B5C;\n",
              "      box-shadow: 0px 1px 3px 1px rgba(0, 0, 0, 0.15);\n",
              "      filter: drop-shadow(0px 1px 2px rgba(0, 0, 0, 0.3));\n",
              "      fill: #FFFFFF;\n",
              "    }\n",
              "  </style>\n",
              "\n",
              "      <script>\n",
              "        const buttonEl =\n",
              "          document.querySelector('#df-c00fca58-22b6-472b-90ac-6179c3101b65 button.colab-df-convert');\n",
              "        buttonEl.style.display =\n",
              "          google.colab.kernel.accessAllowed ? 'block' : 'none';\n",
              "\n",
              "        async function convertToInteractive(key) {\n",
              "          const element = document.querySelector('#df-c00fca58-22b6-472b-90ac-6179c3101b65');\n",
              "          const dataTable =\n",
              "            await google.colab.kernel.invokeFunction('convertToInteractive',\n",
              "                                                     [key], {});\n",
              "          if (!dataTable) return;\n",
              "\n",
              "          const docLinkHtml = 'Like what you see? Visit the ' +\n",
              "            '<a target=\"_blank\" href=https://colab.research.google.com/notebooks/data_table.ipynb>data table notebook</a>'\n",
              "            + ' to learn more about interactive tables.';\n",
              "          element.innerHTML = '';\n",
              "          dataTable['output_type'] = 'display_data';\n",
              "          await google.colab.output.renderOutput(dataTable, element);\n",
              "          const docLink = document.createElement('div');\n",
              "          docLink.innerHTML = docLinkHtml;\n",
              "          element.appendChild(docLink);\n",
              "        }\n",
              "      </script>\n",
              "    </div>\n",
              "  </div>\n",
              "  "
            ]
          },
          "metadata": {}
        },
        {
          "output_type": "display_data",
          "data": {
            "text/plain": [
              "           loss        mse  epoch\n",
              "2996  54.863487  54.863487   2996\n",
              "2997  54.738174  54.738174   2997\n",
              "2998  54.705963  54.705963   2998\n",
              "2999  54.347099  54.347099   2999\n",
              "3000  54.958923  54.958923   3000"
            ],
            "text/html": [
              "\n",
              "  <div id=\"df-8dff159f-a52c-4f4b-85d9-6dff7986dcf3\">\n",
              "    <div class=\"colab-df-container\">\n",
              "      <div>\n",
              "<style scoped>\n",
              "    .dataframe tbody tr th:only-of-type {\n",
              "        vertical-align: middle;\n",
              "    }\n",
              "\n",
              "    .dataframe tbody tr th {\n",
              "        vertical-align: top;\n",
              "    }\n",
              "\n",
              "    .dataframe thead th {\n",
              "        text-align: right;\n",
              "    }\n",
              "</style>\n",
              "<table border=\"1\" class=\"dataframe\">\n",
              "  <thead>\n",
              "    <tr style=\"text-align: right;\">\n",
              "      <th></th>\n",
              "      <th>loss</th>\n",
              "      <th>mse</th>\n",
              "      <th>epoch</th>\n",
              "    </tr>\n",
              "  </thead>\n",
              "  <tbody>\n",
              "    <tr>\n",
              "      <th>2996</th>\n",
              "      <td>54.863487</td>\n",
              "      <td>54.863487</td>\n",
              "      <td>2996</td>\n",
              "    </tr>\n",
              "    <tr>\n",
              "      <th>2997</th>\n",
              "      <td>54.738174</td>\n",
              "      <td>54.738174</td>\n",
              "      <td>2997</td>\n",
              "    </tr>\n",
              "    <tr>\n",
              "      <th>2998</th>\n",
              "      <td>54.705963</td>\n",
              "      <td>54.705963</td>\n",
              "      <td>2998</td>\n",
              "    </tr>\n",
              "    <tr>\n",
              "      <th>2999</th>\n",
              "      <td>54.347099</td>\n",
              "      <td>54.347099</td>\n",
              "      <td>2999</td>\n",
              "    </tr>\n",
              "    <tr>\n",
              "      <th>3000</th>\n",
              "      <td>54.958923</td>\n",
              "      <td>54.958923</td>\n",
              "      <td>3000</td>\n",
              "    </tr>\n",
              "  </tbody>\n",
              "</table>\n",
              "</div>\n",
              "      <button class=\"colab-df-convert\" onclick=\"convertToInteractive('df-8dff159f-a52c-4f4b-85d9-6dff7986dcf3')\"\n",
              "              title=\"Convert this dataframe to an interactive table.\"\n",
              "              style=\"display:none;\">\n",
              "        \n",
              "  <svg xmlns=\"http://www.w3.org/2000/svg\" height=\"24px\"viewBox=\"0 0 24 24\"\n",
              "       width=\"24px\">\n",
              "    <path d=\"M0 0h24v24H0V0z\" fill=\"none\"/>\n",
              "    <path d=\"M18.56 5.44l.94 2.06.94-2.06 2.06-.94-2.06-.94-.94-2.06-.94 2.06-2.06.94zm-11 1L8.5 8.5l.94-2.06 2.06-.94-2.06-.94L8.5 2.5l-.94 2.06-2.06.94zm10 10l.94 2.06.94-2.06 2.06-.94-2.06-.94-.94-2.06-.94 2.06-2.06.94z\"/><path d=\"M17.41 7.96l-1.37-1.37c-.4-.4-.92-.59-1.43-.59-.52 0-1.04.2-1.43.59L10.3 9.45l-7.72 7.72c-.78.78-.78 2.05 0 2.83L4 21.41c.39.39.9.59 1.41.59.51 0 1.02-.2 1.41-.59l7.78-7.78 2.81-2.81c.8-.78.8-2.07 0-2.86zM5.41 20L4 18.59l7.72-7.72 1.47 1.35L5.41 20z\"/>\n",
              "  </svg>\n",
              "      </button>\n",
              "      \n",
              "  <style>\n",
              "    .colab-df-container {\n",
              "      display:flex;\n",
              "      flex-wrap:wrap;\n",
              "      gap: 12px;\n",
              "    }\n",
              "\n",
              "    .colab-df-convert {\n",
              "      background-color: #E8F0FE;\n",
              "      border: none;\n",
              "      border-radius: 50%;\n",
              "      cursor: pointer;\n",
              "      display: none;\n",
              "      fill: #1967D2;\n",
              "      height: 32px;\n",
              "      padding: 0 0 0 0;\n",
              "      width: 32px;\n",
              "    }\n",
              "\n",
              "    .colab-df-convert:hover {\n",
              "      background-color: #E2EBFA;\n",
              "      box-shadow: 0px 1px 2px rgba(60, 64, 67, 0.3), 0px 1px 3px 1px rgba(60, 64, 67, 0.15);\n",
              "      fill: #174EA6;\n",
              "    }\n",
              "\n",
              "    [theme=dark] .colab-df-convert {\n",
              "      background-color: #3B4455;\n",
              "      fill: #D2E3FC;\n",
              "    }\n",
              "\n",
              "    [theme=dark] .colab-df-convert:hover {\n",
              "      background-color: #434B5C;\n",
              "      box-shadow: 0px 1px 3px 1px rgba(0, 0, 0, 0.15);\n",
              "      filter: drop-shadow(0px 1px 2px rgba(0, 0, 0, 0.3));\n",
              "      fill: #FFFFFF;\n",
              "    }\n",
              "  </style>\n",
              "\n",
              "      <script>\n",
              "        const buttonEl =\n",
              "          document.querySelector('#df-8dff159f-a52c-4f4b-85d9-6dff7986dcf3 button.colab-df-convert');\n",
              "        buttonEl.style.display =\n",
              "          google.colab.kernel.accessAllowed ? 'block' : 'none';\n",
              "\n",
              "        async function convertToInteractive(key) {\n",
              "          const element = document.querySelector('#df-8dff159f-a52c-4f4b-85d9-6dff7986dcf3');\n",
              "          const dataTable =\n",
              "            await google.colab.kernel.invokeFunction('convertToInteractive',\n",
              "                                                     [key], {});\n",
              "          if (!dataTable) return;\n",
              "\n",
              "          const docLinkHtml = 'Like what you see? Visit the ' +\n",
              "            '<a target=\"_blank\" href=https://colab.research.google.com/notebooks/data_table.ipynb>data table notebook</a>'\n",
              "            + ' to learn more about interactive tables.';\n",
              "          element.innerHTML = '';\n",
              "          dataTable['output_type'] = 'display_data';\n",
              "          await google.colab.output.renderOutput(dataTable, element);\n",
              "          const docLink = document.createElement('div');\n",
              "          docLink.innerHTML = docLinkHtml;\n",
              "          element.appendChild(docLink);\n",
              "        }\n",
              "      </script>\n",
              "    </div>\n",
              "  </div>\n",
              "  "
            ]
          },
          "metadata": {}
        }
      ]
    },
    {
      "cell_type": "code",
      "source": [
        "def plot_history(history):\n",
        "    hist = pd.DataFrame(history.history)\n",
        "    hist['epoch'] = history.epoch\n",
        "    hist.tail()\n",
        "\n",
        "    plt.figure()\n",
        "    plt.xlabel('Epoch')\n",
        "    plt.ylabel('Mean Square Error [MPG]')\n",
        "    plt.plot(hist['epoch'], hist['mse'],\n",
        "             label='Train Error')\n",
        "\n",
        "    plt.show()\n",
        "#Adam\n",
        "plot_history(history)"
      ],
      "metadata": {
        "colab": {
          "base_uri": "https://localhost:8080/",
          "height": 449
        },
        "id": "GYo_Ac9xRi1H",
        "outputId": "01ee9db2-b778-4a48-8a84-c288545007e6"
      },
      "execution_count": 28,
      "outputs": [
        {
          "output_type": "display_data",
          "data": {
            "text/plain": [
              "<Figure size 640x480 with 1 Axes>"
            ],
            "image/png": "[encoded data removed]"
          },
          "metadata": {}
        }
      ]
    },
    {
      "cell_type": "code",
      "source": [
        "plot_history(history_1)"
      ],
      "metadata": {
        "colab": {
          "base_uri": "https://localhost:8080/",
          "height": 449
        },
        "id": "vemMv47gStp6",
        "outputId": "cce273a9-284b-436f-96e9-fcc9c1739407"
      },
      "execution_count": 34,
      "outputs": [
        {
          "output_type": "display_data",
          "data": {
            "text/plain": [
              "<Figure size 640x480 with 1 Axes>"
            ],
            "image/png": "[encoded data removed]"
          },
          "metadata": {}
        }
      ]
    },
    {
      "cell_type": "code",
      "source": [
        "_, mse = model.evaluate(test_data, test_targets, verbose=0)\n",
        "\n",
        "print(\"Adam: Testing set Mean Squared Error: {:5.2f}\".format(mse))\n",
        "\n",
        "\n",
        "\n",
        "_, mse_1 = model_1.evaluate(test_data, test_targets, verbose=0)\n",
        "\n",
        "print(\"SDK: Testing set Mean Squared Error: {:5.2f}\".format(mse_1))"
      ],
      "metadata": {
        "colab": {
          "base_uri": "https://localhost:8080/"
        },
        "id": "BErx4Us4Rpai",
        "outputId": "19cc12d8-a5d8-4d7d-ce5c-3022455b056a"
      },
      "execution_count": 35,
      "outputs": [
        {
          "output_type": "stream",
          "name": "stdout",
          "text": [
            "Adam: Testing set Mean Squared Error: 23.85\n",
            "SDK: Testing set Mean Squared Error: 62.48\n"
          ]
        }
      ]
    },
    {
      "cell_type": "code",
      "source": [
        "test_predictions = model.predict(test_data).flatten()\n",
        "\n",
        "plt.scatter(test_targets, test_predictions)\n",
        "plt.xlabel('True Values [price]')\n",
        "plt.ylabel('Predictions [price]')\n",
        "plt.axis('equal')\n",
        "plt.axis('square')\n",
        "plt.xlim([0,plt.xlim()[1]])\n",
        "plt.ylim([0,plt.ylim()[1]])\n",
        "_ = plt.plot([-100, 100], [-100, 100]) #diagonal line"
      ],
      "metadata": {
        "colab": {
          "base_uri": "https://localhost:8080/",
          "height": 466
        },
        "id": "qT5MArJfR0HN",
        "outputId": "cececcf1-b524-4b9a-b63c-679145c970ca"
      },
      "execution_count": 31,
      "outputs": [
        {
          "output_type": "stream",
          "name": "stdout",
          "text": [
            "4/4 [==============================] - 0s 3ms/step\n"
          ]
        },
        {
          "output_type": "display_data",
          "data": {
            "text/plain": [
              "<Figure size 640x480 with 1 Axes>"
            ],
            "image/png": "[encoded data removed]"
          },
          "metadata": {}
        }
      ]
    },
    {
      "cell_type": "code",
      "source": [
        "test_predictions_1 = model_1.predict(test_data).flatten()\n",
        "\n",
        "plt.scatter(test_targets, test_predictions_1)\n",
        "plt.xlabel('True Values [price]')\n",
        "plt.ylabel('Predictions [price]')\n",
        "plt.axis('equal')\n",
        "plt.axis('square')\n",
        "plt.xlim([0,plt.xlim()[1]])\n",
        "plt.ylim([0,plt.ylim()[1]])\n",
        "_ = plt.plot([-100, 100], [-100, 100]) #diagonal line"
      ],
      "metadata": {
        "colab": {
          "base_uri": "https://localhost:8080/",
          "height": 466
        },
        "id": "xE_owjb0TFfX",
        "outputId": "15c486f5-4e8e-48dc-999b-3231e63e05c1"
      },
      "execution_count": 36,
      "outputs": [
        {
          "output_type": "stream",
          "name": "stdout",
          "text": [
            "4/4 [==============================] - 0s 2ms/step\n"
          ]
        },
        {
          "output_type": "display_data",
          "data": {
            "text/plain": [
              "<Figure size 640x480 with 1 Axes>"
            ],
            "image/png": "[encoded data removed]"
          },
          "metadata": {}
        }
      ]
    }
  ]
}